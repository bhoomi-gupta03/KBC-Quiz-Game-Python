{
 "cells": [
  {
   "cell_type": "code",
   "execution_count": 1,
   "id": "11437889-5b7a-485b-a570-7d6ba95200e1",
   "metadata": {},
   "outputs": [],
   "source": [
    "# create a program capable of displayong question to user like kbc\n",
    "# use list data type to store the question and their correct answer\n",
    "# display the final amount the person is taking home after playing the game "
   ]
  },
  {
   "cell_type": "code",
   "execution_count": 3,
   "id": "10903ac6-6c66-478c-8b47-c4b6c58fe947",
   "metadata": {},
   "outputs": [
    {
     "name": "stdout",
     "output_type": "stream",
     "text": [
      " Welcome to KBC Quiz Game! \n",
      "\n",
      "Q1. What is the capital of India?\n",
      " a) Mumbai\n",
      " b) Delhi\n",
      " c) Kolkata\n",
      " d) Chennai\n"
     ]
    },
    {
     "name": "stdin",
     "output_type": "stream",
     "text": [
      " Enter your answer (a/b/c/d):  b\n"
     ]
    },
    {
     "name": "stdout",
     "output_type": "stream",
     "text": [
      " Correct! You won ₹ 1000\n",
      "Q2. Who is known as the father of Python?\n",
      " a) Dennis Ritchie\n",
      " b) James Gosling\n",
      " c) Guido van Rossum\n",
      " d) Bjarne Stroustrup\n"
     ]
    },
    {
     "name": "stdin",
     "output_type": "stream",
     "text": [
      " Enter your answer (a/b/c/d):  d\n"
     ]
    },
    {
     "name": "stdout",
     "output_type": "stream",
     "text": [
      " Wrong answer! Game over.\n",
      "\n",
      " You are taking home ₹1000. Thanks for playing!\n",
      "\n"
     ]
    }
   ],
   "source": [
    "# List of questions\n",
    "questions = [\n",
    "    \"Q1. What is the capital of India?\\n a) Mumbai\\n b) Delhi\\n c) Kolkata\\n d) Chennai\",\n",
    "    \"Q2. Who is known as the father of Python?\\n a) Dennis Ritchie\\n b) James Gosling\\n c) Guido van Rossum\\n d) Bjarne Stroustrup\",\n",
    "    \"Q3. What is the chemical symbol for water?\\n a) H2O\\n b) CO2\\n c) NaCl\\n d) O2\",\n",
    "    \"Q4. What is 5 + 7?\\n a) 10\\n b) 12\\n c) 14\\n d) 15\"\n",
    "]\n",
    "\n",
    "# Corresponding correct answers\n",
    "answers = ['b', 'c', 'a', 'b']\n",
    "\n",
    "# Prize money for each question\n",
    "prize = [1000, 2000, 3000, 5000]\n",
    "\n",
    "# Variable to keep track of total winnings\n",
    "total = 0\n",
    "\n",
    "print(\" Welcome to KBC Quiz Game! \\n\")\n",
    "\n",
    "# Iterate over each question\n",
    "for i in range(len(questions)):\n",
    "    print(questions[i])\n",
    "    user_ans = input(\" Enter your answer (a/b/c/d): \").lower()\n",
    "\n",
    "    if user_ans == answers[i]:\n",
    "        print(\" Correct! You won ₹\", prize[i])\n",
    "        total += prize[i]\n",
    "    else:\n",
    "        print(\" Wrong answer! Game over.\")\n",
    "        break\n",
    "\n",
    "    \n",
    "\n",
    "print(f\"\\n You are taking home ₹{total}. Thanks for playing!\\n\")\n"
   ]
  },
  {
   "cell_type": "code",
   "execution_count": null,
   "id": "9b140308-943a-40e7-804e-7a7a900298f0",
   "metadata": {},
   "outputs": [],
   "source": []
  }
 ],
 "metadata": {
  "kernelspec": {
   "display_name": "Python 3 (ipykernel)",
   "language": "python",
   "name": "python3"
  },
  "language_info": {
   "codemirror_mode": {
    "name": "ipython",
    "version": 3
   },
   "file_extension": ".py",
   "mimetype": "text/x-python",
   "name": "python",
   "nbconvert_exporter": "python",
   "pygments_lexer": "ipython3",
   "version": "3.12.7"
  }
 },
 "nbformat": 4,
 "nbformat_minor": 5
}
